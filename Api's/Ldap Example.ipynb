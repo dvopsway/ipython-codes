{
 "cells": [
  {
   "cell_type": "code",
   "execution_count": null,
   "metadata": {
    "collapsed": false
   },
   "outputs": [],
   "source": [
    "import ldap\n",
    "from ldap.controls import SimplePagedResultsControl\n",
    "import pprint\n",
    "import datetime as dt"
   ]
  },
  {
   "cell_type": "code",
   "execution_count": null,
   "metadata": {
    "collapsed": false
   },
   "outputs": [],
   "source": [
    "conn = ldap.initialize('ldap://ipaddress:port')\n",
    "ou = \"dc=test,dc=com\"\n",
    "conn.set_option(ldap.OPT_REFERRALS, 0)\n",
    "conn.protocol_version = 3\n",
    "conn.simple_bind_s('username', 'password')\n",
    "PARAMS = [\"distinguishedName\",'sAMAccountName','givenName','sn','manager']\n",
    "page_size = 1000\n",
    "lc = SimplePagedResultsControl(True,size=page_size,cookie='')\n",
    "known_ldap_resp_ctrls = {\n",
    "SimplePagedResultsControl.controlType:SimplePagedResultsControl,\n",
    "}"
   ]
  },
  {
   "cell_type": "code",
   "execution_count": null,
   "metadata": {
    "collapsed": false,
    "scrolled": false
   },
   "outputs": [],
   "source": [
    "msgid = conn.search_ext(ou, ldap.SCOPE_SUBTREE , \"(&(objectClass=person)(employeeId=*))\",PARAMS, serverctrls=[lc])\n",
    "pages = 0\n",
    "while True:\n",
    "    pages += 1\n",
    "    rtype, rdata, rmsgid, serverctrls = conn.result3(msgid,resp_ctrl_classes=known_ldap_resp_ctrls)\n",
    "    user = {}\n",
    "    for each in rdata:\n",
    "        user = {}\n",
    "        login_id, first_name, last_name, manager = [\"\",\"\",\"\",\"\"]\n",
    "        try:\n",
    "            login_id = each[1]['sAMAccountName'][0]\n",
    "        except:\n",
    "            pass      \n",
    "        try:\n",
    "            first_name = each[1]['givenName'][0]\n",
    "        except:\n",
    "            pass\n",
    "        try:\n",
    "            last_name = each[1]['sn'][0]\n",
    "        except:\n",
    "            pass   \n",
    "        try:\n",
    "            manager = each[1]['manager'][0].split(',')[0].split('=')[1] \n",
    "        except:\n",
    "            pass\n",
    "        user['mmt_id'] = login_id\n",
    "        user['username'] = login_id\n",
    "        user['full_name'] = first_name + \" \" + last_name\n",
    "        user['manager'] = manager\n",
    "        user['datetime'] = dt.datetime.utcnow()\n",
    "        user['application'] = 'AD'\n",
    "        user['alternate_usernames'] = [ login_id , first_name + last_name[0:2] , first_name + last_name[0:1] , first_name[0:1] + last_name , first_name ]\n",
    "        print user\n",
    "        break\n",
    "        \n",
    "        #pprint.pprint(user)\n",
    "    pctrls = [\n",
    "      c\n",
    "      for c in serverctrls\n",
    "      if c.controlType == SimplePagedResultsControl.controlType\n",
    "    ]\n",
    "    if pctrls:\n",
    "        if pctrls[0].cookie:\n",
    "            lc.cookie = pctrls[0].cookie\n",
    "            msgid = conn.search_ext('dc=mmt,dc=com', ldap.SCOPE_SUBTREE , \"(&(objectClass=person)(employeeId=*))\",PARAMS, serverctrls=[lc])\n",
    "        else:\n",
    "            break\n",
    "    else:\n",
    "        print \"Warning: Server ignores RFC 2696 control.\"\n",
    "        break"
   ]
  }
 ],
 "metadata": {
  "kernelspec": {
   "display_name": "Python 2",
   "language": "python",
   "name": "python2"
  },
  "language_info": {
   "codemirror_mode": {
    "name": "ipython",
    "version": 2
   },
   "file_extension": ".py",
   "mimetype": "text/x-python",
   "name": "python",
   "nbconvert_exporter": "python",
   "pygments_lexer": "ipython2",
   "version": "2.7.11"
  }
 },
 "nbformat": 4,
 "nbformat_minor": 0
}
