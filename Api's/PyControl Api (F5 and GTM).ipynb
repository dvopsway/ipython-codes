{
 "cells": [
  {
   "cell_type": "code",
   "execution_count": 12,
   "metadata": {
    "collapsed": true
   },
   "outputs": [],
   "source": [
    "# please install below pip package in order to use this code snippet\n",
    "# Packages : pycontrol"
   ]
  },
  {
   "cell_type": "code",
   "execution_count": 13,
   "metadata": {
    "collapsed": true
   },
   "outputs": [],
   "source": [
    "# Need to run below in case you are using python version 2.7.6 and above"
   ]
  },
  {
   "cell_type": "code",
   "execution_count": 14,
   "metadata": {
    "collapsed": false
   },
   "outputs": [
    {
     "name": "stdout",
     "output_type": "stream",
     "text": [
      "setup complete\n"
     ]
    }
   ],
   "source": [
    "import urllib2\n",
    "import ssl\n",
    "from suds import transport\n",
    "from suds.client import Client\n",
    "from suds.xsd.doctor import Import, ImportDoctor\n",
    "from pycontrol import pycontrol\n",
    "\n",
    "IMP = Import('http://schemas.xmlsoap.org/soap/encoding/')\n",
    "DOCTOR = ImportDoctor(IMP)\n",
    "ICONTROL_URI = '/iControl/iControlPortal.cgi'\n",
    "SESSION_WSDL = 'System.Session'\n",
    "\n",
    "class HTTPSUnVerifiedCertTransport(transport.https.HttpAuthenticated):\n",
    "    def __init__(self, *args, **kwargs):\n",
    "        transport.https.HttpAuthenticated.__init__(self, *args, **kwargs)\n",
    "    def u2handlers(self):\n",
    "        handlers = []\n",
    "        handlers.append(urllib2.ProxyHandler(self.proxy))\n",
    "        handlers.append(urllib2.HTTPBasicAuthHandler(self.pm))\n",
    "        # python ssl Context support - PEP 0466\n",
    "        if hasattr(ssl, '_create_unverified_context'):\n",
    "            ssl_context = ssl._create_unverified_context()\n",
    "            handlers.append(urllib2.HTTPSHandler(context=ssl_context))\n",
    "        else:\n",
    "            handlers.append(urllib2.HTTPSHandler())\n",
    "        return handlers\n",
    "\n",
    "def new_get_suds_client(self, url, **kw):\n",
    "        if not url.startswith('https'):\n",
    "            t = transport.http.HttpAuthenticated(username=self.username,\n",
    "                                                 password=self.password)\n",
    "            c = Client(url, transport=t, username=self.username,\n",
    "                         password=self.password, doctor=DOCTOR, **kw)\n",
    "        else:\n",
    "            t = HTTPSUnVerifiedCertTransport(username=self.username,\n",
    "                                             password=self.password)\n",
    "            c = Client(url, transport=t, username=self.username,\n",
    "                         password=self.password, doctor=DOCTOR, **kw)\n",
    "        return c\n",
    "\n",
    "pycontrol.BIGIP._get_suds_client = new_get_suds_client\n",
    "print \"setup complete\""
   ]
  },
  {
   "cell_type": "code",
   "execution_count": 15,
   "metadata": {
    "collapsed": true
   },
   "outputs": [],
   "source": [
    "# Below we are building dictionary of all virtual servers, pools and\n",
    "# their nodes.\n",
    "# call this method with your creds to see how it works"
   ]
  },
  {
   "cell_type": "code",
   "execution_count": 16,
   "metadata": {
    "collapsed": false,
    "scrolled": false
   },
   "outputs": [],
   "source": [
    "def import_f5_data(host, user, password):\n",
    "    \n",
    "    # Instantiate F5 Client\n",
    "    b = None\n",
    "    try:\n",
    "        b = pc.BIGIP(\n",
    "            hostname = host,\n",
    "            username = user,\n",
    "            password = password,\n",
    "            fromurl = True,\n",
    "            wsdls = ['LocalLB.Pool','LocalLB.VirtualServer']\n",
    "        )\n",
    "    except Exception:\n",
    "        client.close()\n",
    "        return None\n",
    "\n",
    "    virtual_servers = b.LocalLB.VirtualServer.get_list()\n",
    "\n",
    "    for server in virtual_servers:\n",
    "        data={}\n",
    "        try:\n",
    "            data['f5_server'] = host\n",
    "            data['datetime'] = dt.datetime.utcnow()\n",
    "\n",
    "            # Virtual Server data\n",
    "            data['virtual_server'] = server\n",
    "            virtual_server = []\n",
    "            virt = {}\n",
    "            index = 0\n",
    "            destinations = b.LocalLB.VirtualServer.get_destination_v2([server])\n",
    "            for destination in destinations:\n",
    "                virt = {}\n",
    "                virt['ip'] = destination['address']\n",
    "                virt['port'] = destination['port']\n",
    "                virtual_server.append(virt)\n",
    "                index += 1\n",
    "            data['vip'] = virtual_server\n",
    "\n",
    "            # Pool data\n",
    "            poolname = server+\"_pool\"\n",
    "            data['pool'] = poolname\n",
    "            lb_method = b.LocalLB.Pool.get_lb_method([poolname])\n",
    "            members = b.LocalLB.Pool.get_member([poolname])\n",
    "            monitors = b.LocalLB.Pool.get_monitor_association([poolname])\n",
    "            try:\n",
    "                data['lb_method']=lb_method\n",
    "            except:\n",
    "                pass\n",
    "            # Monitor data\n",
    "            monitor = []\n",
    "            for mtr in monitors[0][1][2]:\n",
    "                monitor.append(mtr)\n",
    "            data['monitor'] = monitor\n",
    "\n",
    "            # Member data\n",
    "            member = []\n",
    "            mems = {}\n",
    "            for mem in members[0]:\n",
    "                mems = {}\n",
    "                mems['server'] = mem['address']\n",
    "                mems['port'] = mem['port']\n",
    "                member.append(mems)\n",
    "            data['member'] = member\n",
    "        except Exception:\n",
    "            pass\n",
    "        print data"
   ]
  },
  {
   "cell_type": "code",
   "execution_count": 17,
   "metadata": {
    "collapsed": true
   },
   "outputs": [],
   "source": [
    "# Similar method for global traffic manager"
   ]
  },
  {
   "cell_type": "code",
   "execution_count": 18,
   "metadata": {
    "collapsed": true
   },
   "outputs": [],
   "source": [
    "def import_gtm_data(host, user, password):\n",
    "    b = None\n",
    "    try:\n",
    "        b = pycontrol.BIGIP(\n",
    "            hostname = host,\n",
    "            username = user,\n",
    "            password = password,\n",
    "            fromurl = True,\n",
    "            wsdls = ['GlobalLB.WideIP','GlobalLB.Pool','GlobalLB.PoolMember']\n",
    "        )\n",
    "    except Exception:\n",
    "        client.close()\n",
    "        return None\n",
    "    wide_ips = b.GlobalLB.WideIP.get_list()\n",
    "    pools = b.GlobalLB.Pool.get_list()\n",
    "    data = {}\n",
    "    for each in pools:\n",
    "        data['pool'] = str(each)\n",
    "        members = b.GlobalLB.Pool.get_member([each])\n",
    "        memsarr = []\n",
    "        for mem in members[0]:\n",
    "            mems = {}\n",
    "            mems['server'] = mem[0][0]\n",
    "            mems['port'] = mem[0][1]\n",
    "            memsarr.append(mems)\n",
    "        data['members'] = memsarr\n",
    "        print data\n",
    "   "
   ]
  }
 ],
 "metadata": {
  "kernelspec": {
   "display_name": "Python 2",
   "language": "python",
   "name": "python2"
  },
  "language_info": {
   "codemirror_mode": {
    "name": "ipython",
    "version": 2
   },
   "file_extension": ".py",
   "mimetype": "text/x-python",
   "name": "python",
   "nbconvert_exporter": "python",
   "pygments_lexer": "ipython2",
   "version": "2.7.11"
  }
 },
 "nbformat": 4,
 "nbformat_minor": 0
}
