{
 "cells": [
  {
   "cell_type": "code",
   "execution_count": null,
   "metadata": {
    "collapsed": true
   },
   "outputs": [],
   "source": [
    "# Various example of smtplip"
   ]
  },
  {
   "cell_type": "code",
   "execution_count": 1,
   "metadata": {
    "collapsed": false
   },
   "outputs": [],
   "source": [
    "import traceback\n",
    "import smtplib\n",
    "from email.mime.text import MIMEText\n",
    "from email.mime.multipart import MIMEMultipart"
   ]
  },
  {
   "cell_type": "code",
   "execution_count": 2,
   "metadata": {
    "collapsed": false
   },
   "outputs": [],
   "source": [
    "def raise_alert(sender,receivers,subject,body):\n",
    "    recipients=[]\n",
    "    for each in receivers.split(\",\"):\n",
    "        recipients.append(each.strip(\" \"))\n",
    "    msg = MIMEMultipart('alternative')\n",
    "    msg['Subject'] = subject\n",
    "    msg['From'] = sender\n",
    "    msg['To'] = \", \".join(recipients)\n",
    "    part1 = MIMEText(body, 'text')\n",
    "    msg.attach(part1)\n",
    "    try:\n",
    "        smtpObj = smtplib.SMTP('localhost')\n",
    "        smtpObj.sendmail(sender, recipients, msg.as_string())\n",
    "        print \"Successfully sent email\"\n",
    "    except:\n",
    "        print \"Error: unable to send email\"\n",
    "        print traceback.print_exc()"
   ]
  },
  {
   "cell_type": "code",
   "execution_count": 3,
   "metadata": {
    "collapsed": true
   },
   "outputs": [],
   "source": [
    "def send_report(sender,receivers,subject,html_body):\n",
    "    recipients=[]\n",
    "    for each in receivers.split(\",\"):\n",
    "        recipients.append(each.strip(\" \"))\n",
    "    msg = MIMEMultipart('alternative')\n",
    "    msg['Subject'] = subject\n",
    "    msg['From'] = sender\n",
    "    msg['To'] = \", \".join(recipients)\n",
    "    part1 = MIMEText(html_body , 'html')\n",
    "    msg.attach(part1)\n",
    "    try:\n",
    "        smtpObj = smtplib.SMTP('localhost')\n",
    "        smtpObj.sendmail(sender, recipients, msg.as_string())\n",
    "        print \"Successfully sent email\"\n",
    "    except:\n",
    "        print \"Error: unable to send email\"\n",
    "        print traceback.print_exc()\n"
   ]
  },
  {
   "cell_type": "code",
   "execution_count": null,
   "metadata": {
    "collapsed": true
   },
   "outputs": [],
   "source": []
  }
 ],
 "metadata": {
  "kernelspec": {
   "display_name": "Python 2",
   "language": "python",
   "name": "python2"
  },
  "language_info": {
   "codemirror_mode": {
    "name": "ipython",
    "version": 2
   },
   "file_extension": ".py",
   "mimetype": "text/x-python",
   "name": "python",
   "nbconvert_exporter": "python",
   "pygments_lexer": "ipython2",
   "version": "2.7.11"
  }
 },
 "nbformat": 4,
 "nbformat_minor": 0
}
