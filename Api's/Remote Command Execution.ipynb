{
 "cells": [
  {
   "cell_type": "code",
   "execution_count": null,
   "metadata": {
    "collapsed": true
   },
   "outputs": [],
   "source": [
    "# This code works like a tentacle , but slightly different , when you run it \n",
    "# you get an interactive shell, whatever you type in it, that command is \n",
    "# exected on all the mentioned servers."
   ]
  },
  {
   "cell_type": "code",
   "execution_count": null,
   "metadata": {
    "collapsed": false
   },
   "outputs": [],
   "source": [
    "import subprocess\n",
    "import pexpect\n",
    "import sys\n",
    "import tempfile\n",
    "\n",
    "def ssh(host, cmd,  user, password, timeout=30, bg_run=False):\n",
    "    fname = tempfile.mktemp()\n",
    "    fout = open(fname, 'w')\n",
    "    options = '-q -oStrictHostKeyChecking=no -oUserKnownHostsFile=/dev/null -oPubkeyAuthentication=no'\n",
    "    if bg_run:\n",
    "        options += ' -f'\n",
    "    ssh_cmd = 'ssh %s@%s %s \"%s\"' % (user, host, options, cmd)                                                                                                                 \n",
    "    child = pexpect.spawn(ssh_cmd, timeout=timeout)\n",
    "    child.expect(['password: '])\n",
    "    child.sendline(password)\n",
    "    child.logfile = fout\n",
    "    child.expect(pexpect.EOF)\n",
    "    child.close()\n",
    "    fout.close()\n",
    "    fin = open(fname, 'r')\n",
    "    stdout = fin.read()\n",
    "    fin.close()\n",
    "    if 0 != child.exitstatus:\n",
    "        raise Exception(stdout)\n",
    "    return stdout"
   ]
  },
  {
   "cell_type": "code",
   "execution_count": null,
   "metadata": {
    "collapsed": false
   },
   "outputs": [],
   "source": [
    "# replace with your ip's\n",
    "servers = ['xx.xx.xx.xx','xx.xx.xx.xx','xx.xx.xx.xx']\n",
    "print \"Enter your commands below:\\n\"\n",
    "command = raw_input(\">> \")\n",
    "while command != \"quit\":\n",
    "    for each in servers:\n",
    "        # replace with your ssh creds\n",
    "        output = ssh(each,command,'username','password')\n",
    "        print \"\"\n",
    "        print each + \" : \" + output.split('\\n')[2]\n",
    "    command = str(raw_input(\">> \"))\n",
    "print \"session closed\""
   ]
  }
 ],
 "metadata": {
  "kernelspec": {
   "display_name": "Python 2",
   "language": "python",
   "name": "python2"
  },
  "language_info": {
   "codemirror_mode": {
    "name": "ipython",
    "version": 2
   },
   "file_extension": ".py",
   "mimetype": "text/x-python",
   "name": "python",
   "nbconvert_exporter": "python",
   "pygments_lexer": "ipython2",
   "version": "2.7.11"
  }
 },
 "nbformat": 4,
 "nbformat_minor": 0
}
